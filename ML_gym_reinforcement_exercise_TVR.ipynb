{
  "nbformat": 4,
  "nbformat_minor": 0,
  "metadata": {
    "colab": {
      "name": "ML_gym_reinforcement_exercise_TVR.ipynb",
      "provenance": [],
      "collapsed_sections": [],
      "include_colab_link": true
    },
    "kernelspec": {
      "display_name": "Python 3",
      "language": "python",
      "name": "python3"
    },
    "language_info": {
      "codemirror_mode": {
        "name": "ipython",
        "version": 3
      },
      "file_extension": ".py",
      "mimetype": "text/x-python",
      "name": "python",
      "nbconvert_exporter": "python",
      "pygments_lexer": "ipython3",
      "version": "3.8.8"
    }
  },
  "cells": [
    {
      "cell_type": "markdown",
      "metadata": {
        "id": "view-in-github",
        "colab_type": "text"
      },
      "source": [
        "<a href=\"https://colab.research.google.com/github/TRhine/PRA3024_BigData/blob/main/ML_gym_reinforcement_exercise_TVR.ipynb\" target=\"_parent\"><img src=\"https://colab.research.google.com/assets/colab-badge.svg\" alt=\"Open In Colab\"/></a>"
      ]
    },
    {
      "cell_type": "code",
      "metadata": {
        "id": "2iv2rJ1irpVc"
      },
      "source": [
        "# Cartpole game, as per https://keon.io/deep-q-learning/\n",
        "#!pip install gym\n",
        "\n",
        "# GYM provides an environment for an agent to interact with. We'll look at the 'cartpole',\n",
        "#  or the unstable, top-heavy inverted pendulum on top of a cart, which our 'agent' must learn to balance.\n",
        "#\n",
        "# GYM provides:\n",
        "#  - a state (observation) of the system/environment\n",
        "#    (in case of cartpole: cart position and velocity, angle and velocity at the tip\n",
        "#  - a set of _actions_ the agent can undertake in the environment\n",
        "#    (in case of cartpole: moving the cart base left or right)\n",
        "\n",
        "# When an agent performs a certain action in the current enviroment, GYM returns\n",
        "#  - a _reward_ for a certain result of performing the action in the environment\n",
        "#    (in case of cartpole: +1 if it didn't die.)\n",
        "#  - the new _state_ of the environment after performing said action\n",
        "#    (in case of cartpole: the effect of gravity pulling on the pendulum's top, on the angle, in one time step)\n",
        "#  - a 'terminal' in case the state is such that the agent cannot continue (is 'dead')\n",
        "#    (in case of cartpole: if the angle exceeds > 5 degrees of tipping over, or it flies off-screen)\n",
        "\n",
        "# It is up to us to make an agent that learns which action to take in which state, to maximise the total reward before it dies.\n",
        "#  We do this by 'remembering' what the results were of certain actions on certain states in a memory (i.e. a list or deque),\n",
        "#  And after every 'death' we sample ('replay') from this memory to train a neural network that decides the best actions\n",
        "#   we can take on any state we've encountered so far, which maximises the total reward.\n",
        "\n",
        "# In addition, GYM provides a nice real-time visual output of the environment and the result of actions taken.\n",
        "#  In google COLAB however, we pull some strings, and only have a combined video at the end.\n"
      ],
      "execution_count": null,
      "outputs": []
    },
    {
      "cell_type": "code",
      "metadata": {
        "id": "rVf34L_Q0rE_"
      },
      "source": [
        "COLAB = True\n",
        "\n",
        "if(COLAB) :\n",
        "  # install some helpers to visualize gym graphics in the colab environment\n",
        "  !pip install gym pyvirtualdisplay > /dev/null 2>&1\n",
        "  !apt-get install -y xvfb python-opengl ffmpeg x11-utils > /dev/null 2>&1"
      ],
      "execution_count": 1,
      "outputs": []
    },
    {
      "cell_type": "code",
      "metadata": {
        "id": "fA7nN0_rrwRa"
      },
      "source": [
        "import gym\n",
        "import numpy as np\n",
        "from matplotlib import pyplot as plt\n",
        "import random\n",
        "\n",
        "from collections import deque\n",
        "from keras.models import Sequential\n",
        "from keras.layers import Dense\n",
        "from keras.optimizers import Adam"
      ],
      "execution_count": 2,
      "outputs": []
    },
    {
      "cell_type": "code",
      "metadata": {
        "id": "BRnwGNBeuNbY",
        "colab": {
          "base_uri": "https://localhost:8080/"
        },
        "outputId": "2adbd405-a3d5-40d4-c975-28b81142ec25"
      },
      "source": [
        "# only necessary for visualisation in colab env.\n",
        "if(COLAB) :\n",
        "  from IPython.display import HTML\n",
        "  from IPython import display as ipythondisplay\n",
        "  from pyvirtualdisplay import Display\n",
        "  from gym.wrappers import Monitor\n",
        "  import glob, io, os, base64\n",
        "  from moviepy.editor import VideoFileClip, concatenate_videoclips\n",
        "\n",
        "  display = Display(visible=0, size=(1400, 900))\n",
        "  display.start()\n",
        "  #os.environ[\"DISPLAY\"] = \":\" + str(display.display) + \".\" + str(display.screen)\n",
        "\n",
        "  def combine_videos() :\n",
        "    mp4list = sorted( glob.glob('video/*.mp4') )\n",
        "    if len(mp4list) > 0 :\n",
        "      videolist = []\n",
        "      for mp4 in mp4list :\n",
        "        videolist.append( VideoFileClip(mp4))\n",
        "      final_clip = concatenate_videoclips(videolist)\n",
        "      final_clip.to_videofile(\"combined.mp4\", fps=24, remove_temp=False)\n",
        "      return 1\n",
        "    else :\n",
        "      return 0\n",
        "\n",
        "  def show_video() :\n",
        "      if(combine_videos()) :\n",
        "        video = io.open(\"combined.mp4\", 'r+b').read()\n",
        "\n",
        "        encoded = base64.b64encode(video)\n",
        "        ipythondisplay.display(HTML(data='''<video alt=\"test\" autoplay \n",
        "                  loop controls style=\"height: 400px;\">\n",
        "                  <source src=\"data:video/mp4;base64,{0}\" type=\"video/mp4\" />\n",
        "               </video>'''.format(encoded.decode('ascii'))))\n",
        "      else :\n",
        "        print(\"Error: no videos found\")     \n",
        "\n",
        "\n",
        "  def wrap_env(env):\n",
        "    env = Monitor(env, './video', video_callable=lambda episode_id: True, force=True)\n",
        "    return env\n"
      ],
      "execution_count": 3,
      "outputs": [
        {
          "output_type": "stream",
          "text": [
            "Imageio: 'ffmpeg-linux64-v3.3.1' was not found on your computer; downloading it now.\n",
            "Try 1. Download from https://github.com/imageio/imageio-binaries/raw/master/ffmpeg/ffmpeg-linux64-v3.3.1 (43.8 MB)\n",
            "Downloading: 8192/45929032 bytes (0.0%)\b\b\b\b\b\b\b\b\b\b\b\b\b\b\b\b\b\b\b\b\b\b\b\b\b\b2449408/45929032 bytes (5.3%)\b\b\b\b\b\b\b\b\b\b\b\b\b\b\b\b\b\b\b\b\b\b\b\b\b\b\b\b\b5636096/45929032 bytes (12.3%)\b\b\b\b\b\b\b\b\b\b\b\b\b\b\b\b\b\b\b\b\b\b\b\b\b\b\b\b\b\b8806400/45929032 bytes (19.2%)\b\b\b\b\b\b\b\b\b\b\b\b\b\b\b\b\b\b\b\b\b\b\b\b\b\b\b\b\b\b11927552/45929032 bytes (26.0%)\b\b\b\b\b\b\b\b\b\b\b\b\b\b\b\b\b\b\b\b\b\b\b\b\b\b\b\b\b\b\b14966784/45929032 bytes (32.6%)\b\b\b\b\b\b\b\b\b\b\b\b\b\b\b\b\b\b\b\b\b\b\b\b\b\b\b\b\b\b\b18284544/45929032 bytes (39.8%)\b\b\b\b\b\b\b\b\b\b\b\b\b\b\b\b\b\b\b\b\b\b\b\b\b\b\b\b\b\b\b21487616/45929032 bytes (46.8%)\b\b\b\b\b\b\b\b\b\b\b\b\b\b\b\b\b\b\b\b\b\b\b\b\b\b\b\b\b\b\b24748032/45929032 bytes (53.9%)\b\b\b\b\b\b\b\b\b\b\b\b\b\b\b\b\b\b\b\b\b\b\b\b\b\b\b\b\b\b\b27828224/45929032 bytes (60.6%)\b\b\b\b\b\b\b\b\b\b\b\b\b\b\b\b\b\b\b\b\b\b\b\b\b\b\b\b\b\b\b30810112/45929032 bytes (67.1%)\b\b\b\b\b\b\b\b\b\b\b\b\b\b\b\b\b\b\b\b\b\b\b\b\b\b\b\b\b\b\b33947648/45929032 bytes (73.9%)\b\b\b\b\b\b\b\b\b\b\b\b\b\b\b\b\b\b\b\b\b\b\b\b\b\b\b\b\b\b\b37134336/45929032 bytes (80.9%)\b\b\b\b\b\b\b\b\b\b\b\b\b\b\b\b\b\b\b\b\b\b\b\b\b\b\b\b\b\b\b40288256/45929032 bytes (87.7%)\b\b\b\b\b\b\b\b\b\b\b\b\b\b\b\b\b\b\b\b\b\b\b\b\b\b\b\b\b\b\b43507712/45929032 bytes (94.7%)\b\b\b\b\b\b\b\b\b\b\b\b\b\b\b\b\b\b\b\b\b\b\b\b\b\b\b\b\b\b\b45929032/45929032 bytes (100.0%)\n",
            "  Done\n",
            "File saved as /root/.imageio/ffmpeg/ffmpeg-linux64-v3.3.1.\n"
          ],
          "name": "stdout"
        }
      ]
    },
    {
      "cell_type": "code",
      "metadata": {
        "id": "iVzZ7nmErzCw"
      },
      "source": [
        "ENV_NAME = \"CartPole-v1\"\n",
        "\n",
        "### STUDENT CODE HERE ###\n",
        "### --> Change the parameters below to perform a better training\n",
        "\n",
        "MAXRUNS = 50\n",
        "#NSTEPSOLVED = 1000\n",
        "\n",
        "GAMMA = 0.95  # 'future discount factor'\n",
        "LEARNING_RATE = 1.5e-4 # rate at which to update weights after each training step\n",
        "\n",
        "MEMORY_SIZE = 100000 # size of container to hold actions and outcomes\n",
        "BATCH_SIZE = 16 # number of actions in memory to 'replay' after each death\n",
        "\n",
        "# probability to do 'random' actions, to sample from event space\n",
        "EXPLORATION_MAX = 1.0  \n",
        "EXPLORATION_MIN = 0.01\n",
        "EXPLORATION_DECAY = 0.995   # 0.995 --> 1% after ~35 runs\n"
      ],
      "execution_count": 4,
      "outputs": []
    },
    {
      "cell_type": "code",
      "metadata": {
        "id": "U2bZXXrqr5Tj"
      },
      "source": [
        "class DQNSolver:\n",
        "\n",
        "    def __init__(self, observation_space, action_space):\n",
        "        self.exploration_rate = EXPLORATION_MAX\n",
        "\n",
        "        self.action_space = action_space\n",
        "        self.memory = deque(maxlen=MEMORY_SIZE)\n",
        "\n",
        "        # This will be a simple feed-forward NN, with \n",
        "        #  - input = 'observation' (aka state)\n",
        "        #  - output = predicted 'quality' of each possible action\n",
        "        self.model = Sequential()\n",
        "\n",
        "\n",
        "        ### STUDENT CODE HERE ###\n",
        "        ### --> Write the network using fully-connected (Dense) layers.\n",
        "        ###  Make sure the input has the same shape as an observation/state,\n",
        "        ###   and the output has the same dimensions as the number of possible actions.\n",
        "        \n",
        "        self.model.add(Dense(32, input_shape=(observation_space), activation='relu'))\n",
        "        self.model.add(Dense(self.action_space))\n",
        "        self.model.add(Dense(32, activation='relu'))\n",
        "        \n",
        "        ### END STUDENT CODE ###\n",
        "        \n",
        "        self.model.compile(loss=\"mse\", optimizer=Adam(lr=LEARNING_RATE))\n",
        "        self.model.summary()\n",
        "        \n",
        "    def remember(self, state, action, reward, next_state, done):\n",
        "        # add event to memory\n",
        "        self.memory.append((state, action, reward, next_state, done))\n",
        "\n",
        "    def act(self, state):\n",
        "        # return the best possible action for the current state\n",
        "\n",
        "        # sometimes allow for a random action at the 'exploration rate', to avoid local minima\n",
        "        if np.random.rand() < self.exploration_rate:\n",
        "            return random.randrange(self.action_space)\n",
        "        \n",
        "        # Get predicted qualities for each possible action, and return the action (=index) with the highest quality\n",
        "        q_values = self.model.predict(state) \n",
        "        return np.argmax(q_values[0])\n",
        "\n",
        "    def experience_replay(self):\n",
        "        # Learn from random subset of memory (reduces corr. between subsequent actions).\n",
        "        # learning is done by comparing 'predicted quality' to the here defined quality (~reward) of the action.\n",
        "        \n",
        "        if len(self.memory) < BATCH_SIZE:\n",
        "            # We haven't experienced enough to properly learn yet - keep exploring!\n",
        "            return\n",
        "        \n",
        "        # Get random subset of memory\n",
        "        batch = random.sample(self.memory, BATCH_SIZE) \n",
        "        \n",
        "        for state, action, reward, state_next, terminal in batch:\n",
        "\n",
        "            # We define the 'quality' of a move by taking the known, memorized reward for the action,\n",
        "            #  and adding the predicted quality of the (predicted) best choice of action for the next state, to that.\n",
        "            # As the model learns to give this situation a low quality, any step leading up to this state will get a \n",
        "            #  lower quality due to the predict(state_next) term. This will slowly trickle through to the step before that, etc.,\n",
        "            #  slowly making our agent learn about future consequences of current actions.\n",
        "          \n",
        "            q_update = reward\n",
        "            if not terminal:\n",
        "                q_update = (reward + GAMMA * np.amax(self.model.predict(state_next)[0]))\n",
        "                \n",
        "            # - Define the quality of the non-chosen action to just be the predicted quality (i.e. diff = 0)\n",
        "            # - Define the quality of the chosen action to be the newly defined quality\n",
        "            q_values = self.model.predict(state)\n",
        "            q_values[0][action] = q_update \n",
        "            \n",
        "            # Finally, find the optimal model weights for minimal difference between \n",
        "            #  predicted quality and observed quality (+ future prediction as per above) for this action.\n",
        "            # The weights are then updated * learning rate\n",
        "            self.model.fit(state, q_values, verbose=0) \n",
        "            \n",
        "        # reduce the 'random choices' rate over time, because you expect the model to have learned\n",
        "        self.exploration_rate *= EXPLORATION_DECAY\n",
        "        self.exploration_rate = max(EXPLORATION_MIN, self.exploration_rate)"
      ],
      "execution_count": 5,
      "outputs": []
    },
    {
      "cell_type": "code",
      "metadata": {
        "id": "MCAlTnFAr8M8"
      },
      "source": [
        "def cartpole() :\n",
        "    if(COLAB) : env = wrap_env(gym.make(ENV_NAME)) # only for visualisation in colab\n",
        "    else : env = gym.make(ENV_NAME)\n",
        "\n",
        "    observation_space = env.observation_space.shape[0]\n",
        "    action_space = env.action_space.n\n",
        "    dqn_solver = DQNSolver(observation_space, action_space)\n",
        "       \n",
        "    run=0\n",
        "    runsteplog = []\n",
        "    #while True:\n",
        "    for i in range(MAXRUNS):\n",
        "        run += 1\n",
        "        state = env.reset()\n",
        "        state = np.reshape(state, [1, observation_space])\n",
        "        step = 0\n",
        "        \n",
        "        while True :    \n",
        "            step += 1\n",
        "            screen = env.render() # graphical output\n",
        "\n",
        "            # decide on an action\n",
        "            ### STUDENT CODE HERE\n",
        "            ### --> Redefine the action to be the output of the 'act' of your solver.\n",
        "            action = dqn_solver.act(state) # (this takes a random action)\n",
        "            ### END STUDENT CODE\n",
        "            \n",
        "            # make the action\n",
        "            state_next, reward, terminal, info = env.step(action) \n",
        "\n",
        "            # if action made terminal: reduce reward!\n",
        "            reward = reward if not terminal else -reward  \n",
        "\n",
        "            state_next = np.reshape(state_next, [1, observation_space])\n",
        "\n",
        "            # fill agent memory with this action's results\n",
        "            dqn_solver.remember(state, action, reward, state_next, terminal) \n",
        "\n",
        "            # prepare for the next action in the environment\n",
        "            state = state_next \n",
        "            \n",
        "            if terminal :\n",
        "                #state = env.reset()\n",
        "                #state = np.reshape(state, [1, observation_space])\n",
        "                print(\"Run: {0}, exploration: {1:.15f}, score: {2}\".format(run,dqn_solver.exploration_rate,step))\n",
        "                runsteplog += [step]\n",
        "\n",
        "                break\n",
        "            \n",
        "            dqn_solver.experience_replay() # learn from batch of memories every time a new one is made\n",
        "            \n",
        "            #if(step > NSTEPSOLVED) :\n",
        "            #    i = MAXRUNS\n",
        "            #    print(\"Solved! (step > NSTEPSOLVED)\")\n",
        "            #    break\n",
        "\n",
        "\n",
        "    env.close()\n",
        "    \n",
        "\n",
        "\n",
        "    # Show training process\n",
        "    \n",
        "    # plot #steps achieved\n",
        "    plt.plot(runsteplog)\n",
        "    plt.ylabel(\"# actions before terminal\")\n",
        "    plt.xlabel(\"run iteration\")\n",
        "\n",
        "    success_measure = np.mean(runsteplog[-15:])\n",
        "    print(\"Mean of last 15 runs: {0}\".format(success_measure))\n",
        "    return success_measure"
      ],
      "execution_count": 6,
      "outputs": []
    },
    {
      "cell_type": "code",
      "metadata": {
        "colab": {
          "base_uri": "https://localhost:8080/",
          "height": 949
        },
        "id": "RBDY7DTDr-uK",
        "outputId": "1b0c8252-80a8-4460-83c2-1d2c28d22a95"
      },
      "source": [
        "MAXRUNS = 30\n",
        "\n",
        "if __name__ == \"__main__\":\n",
        "    cartpole()\n",
        "\n",
        "if(COLAB) :\n",
        "    show_video() "
      ],
      "execution_count": 7,
      "outputs": [
        {
          "output_type": "error",
          "ename": "TypeError",
          "evalue": "ignored",
          "traceback": [
            "\u001b[0;31m---------------------------------------------------------------------------\u001b[0m",
            "\u001b[0;31mTypeError\u001b[0m                                 Traceback (most recent call last)",
            "\u001b[0;32m<ipython-input-7-b3894898871b>\u001b[0m in \u001b[0;36m<module>\u001b[0;34m()\u001b[0m\n\u001b[1;32m      2\u001b[0m \u001b[0;34m\u001b[0m\u001b[0m\n\u001b[1;32m      3\u001b[0m \u001b[0;32mif\u001b[0m \u001b[0m__name__\u001b[0m \u001b[0;34m==\u001b[0m \u001b[0;34m\"__main__\"\u001b[0m\u001b[0;34m:\u001b[0m\u001b[0;34m\u001b[0m\u001b[0;34m\u001b[0m\u001b[0m\n\u001b[0;32m----> 4\u001b[0;31m     \u001b[0mcartpole\u001b[0m\u001b[0;34m(\u001b[0m\u001b[0;34m)\u001b[0m\u001b[0;34m\u001b[0m\u001b[0;34m\u001b[0m\u001b[0m\n\u001b[0m\u001b[1;32m      5\u001b[0m \u001b[0;34m\u001b[0m\u001b[0m\n\u001b[1;32m      6\u001b[0m \u001b[0;32mif\u001b[0m\u001b[0;34m(\u001b[0m\u001b[0mCOLAB\u001b[0m\u001b[0;34m)\u001b[0m \u001b[0;34m:\u001b[0m\u001b[0;34m\u001b[0m\u001b[0;34m\u001b[0m\u001b[0m\n",
            "\u001b[0;32m<ipython-input-6-1a1067273813>\u001b[0m in \u001b[0;36mcartpole\u001b[0;34m()\u001b[0m\n\u001b[1;32m      5\u001b[0m     \u001b[0mobservation_space\u001b[0m \u001b[0;34m=\u001b[0m \u001b[0menv\u001b[0m\u001b[0;34m.\u001b[0m\u001b[0mobservation_space\u001b[0m\u001b[0;34m.\u001b[0m\u001b[0mshape\u001b[0m\u001b[0;34m[\u001b[0m\u001b[0;36m0\u001b[0m\u001b[0;34m]\u001b[0m\u001b[0;34m\u001b[0m\u001b[0;34m\u001b[0m\u001b[0m\n\u001b[1;32m      6\u001b[0m     \u001b[0maction_space\u001b[0m \u001b[0;34m=\u001b[0m \u001b[0menv\u001b[0m\u001b[0;34m.\u001b[0m\u001b[0maction_space\u001b[0m\u001b[0;34m.\u001b[0m\u001b[0mn\u001b[0m\u001b[0;34m\u001b[0m\u001b[0;34m\u001b[0m\u001b[0m\n\u001b[0;32m----> 7\u001b[0;31m     \u001b[0mdqn_solver\u001b[0m \u001b[0;34m=\u001b[0m \u001b[0mDQNSolver\u001b[0m\u001b[0;34m(\u001b[0m\u001b[0mobservation_space\u001b[0m\u001b[0;34m,\u001b[0m \u001b[0maction_space\u001b[0m\u001b[0;34m)\u001b[0m\u001b[0;34m\u001b[0m\u001b[0;34m\u001b[0m\u001b[0m\n\u001b[0m\u001b[1;32m      8\u001b[0m \u001b[0;34m\u001b[0m\u001b[0m\n\u001b[1;32m      9\u001b[0m     \u001b[0mrun\u001b[0m\u001b[0;34m=\u001b[0m\u001b[0;36m0\u001b[0m\u001b[0;34m\u001b[0m\u001b[0;34m\u001b[0m\u001b[0m\n",
            "\u001b[0;32m<ipython-input-5-ada1790affd0>\u001b[0m in \u001b[0;36m__init__\u001b[0;34m(self, observation_space, action_space)\u001b[0m\n\u001b[1;32m     18\u001b[0m         \u001b[0;31m###   and the output has the same dimensions as the number of possible actions.\u001b[0m\u001b[0;34m\u001b[0m\u001b[0;34m\u001b[0m\u001b[0;34m\u001b[0m\u001b[0m\n\u001b[1;32m     19\u001b[0m \u001b[0;34m\u001b[0m\u001b[0m\n\u001b[0;32m---> 20\u001b[0;31m         \u001b[0mself\u001b[0m\u001b[0;34m.\u001b[0m\u001b[0mmodel\u001b[0m\u001b[0;34m.\u001b[0m\u001b[0madd\u001b[0m\u001b[0;34m(\u001b[0m\u001b[0mDense\u001b[0m\u001b[0;34m(\u001b[0m\u001b[0;36m32\u001b[0m\u001b[0;34m,\u001b[0m \u001b[0minput_shape\u001b[0m\u001b[0;34m=\u001b[0m\u001b[0;34m(\u001b[0m\u001b[0mobservation_space\u001b[0m\u001b[0;34m)\u001b[0m\u001b[0;34m,\u001b[0m \u001b[0mactivation\u001b[0m\u001b[0;34m=\u001b[0m\u001b[0;34m'relu'\u001b[0m\u001b[0;34m)\u001b[0m\u001b[0;34m)\u001b[0m\u001b[0;34m\u001b[0m\u001b[0;34m\u001b[0m\u001b[0m\n\u001b[0m\u001b[1;32m     21\u001b[0m         \u001b[0mself\u001b[0m\u001b[0;34m.\u001b[0m\u001b[0mmodel\u001b[0m\u001b[0;34m.\u001b[0m\u001b[0madd\u001b[0m\u001b[0;34m(\u001b[0m\u001b[0mDense\u001b[0m\u001b[0;34m(\u001b[0m\u001b[0mself\u001b[0m\u001b[0;34m.\u001b[0m\u001b[0maction_space\u001b[0m\u001b[0;34m)\u001b[0m\u001b[0;34m)\u001b[0m\u001b[0;34m\u001b[0m\u001b[0;34m\u001b[0m\u001b[0m\n\u001b[1;32m     22\u001b[0m         \u001b[0mself\u001b[0m\u001b[0;34m.\u001b[0m\u001b[0mmodel\u001b[0m\u001b[0;34m.\u001b[0m\u001b[0madd\u001b[0m\u001b[0;34m(\u001b[0m\u001b[0mDense\u001b[0m\u001b[0;34m(\u001b[0m\u001b[0;36m32\u001b[0m\u001b[0;34m,\u001b[0m \u001b[0mactivation\u001b[0m\u001b[0;34m=\u001b[0m\u001b[0;34m'relu'\u001b[0m\u001b[0;34m)\u001b[0m\u001b[0;34m)\u001b[0m\u001b[0;34m\u001b[0m\u001b[0;34m\u001b[0m\u001b[0m\n",
            "\u001b[0;32m/usr/local/lib/python3.7/dist-packages/tensorflow/python/keras/layers/core.py\u001b[0m in \u001b[0;36m__init__\u001b[0;34m(self, units, activation, use_bias, kernel_initializer, bias_initializer, kernel_regularizer, bias_regularizer, activity_regularizer, kernel_constraint, bias_constraint, **kwargs)\u001b[0m\n\u001b[1;32m   1156\u001b[0m                **kwargs):\n\u001b[1;32m   1157\u001b[0m     super(Dense, self).__init__(\n\u001b[0;32m-> 1158\u001b[0;31m         activity_regularizer=activity_regularizer, **kwargs)\n\u001b[0m\u001b[1;32m   1159\u001b[0m \u001b[0;34m\u001b[0m\u001b[0m\n\u001b[1;32m   1160\u001b[0m     \u001b[0mself\u001b[0m\u001b[0;34m.\u001b[0m\u001b[0munits\u001b[0m \u001b[0;34m=\u001b[0m \u001b[0mint\u001b[0m\u001b[0;34m(\u001b[0m\u001b[0munits\u001b[0m\u001b[0;34m)\u001b[0m \u001b[0;32mif\u001b[0m \u001b[0;32mnot\u001b[0m \u001b[0misinstance\u001b[0m\u001b[0;34m(\u001b[0m\u001b[0munits\u001b[0m\u001b[0;34m,\u001b[0m \u001b[0mint\u001b[0m\u001b[0;34m)\u001b[0m \u001b[0;32melse\u001b[0m \u001b[0munits\u001b[0m\u001b[0;34m\u001b[0m\u001b[0;34m\u001b[0m\u001b[0m\n",
            "\u001b[0;32m/usr/local/lib/python3.7/dist-packages/tensorflow/python/training/tracking/base.py\u001b[0m in \u001b[0;36m_method_wrapper\u001b[0;34m(self, *args, **kwargs)\u001b[0m\n\u001b[1;32m    515\u001b[0m     \u001b[0mself\u001b[0m\u001b[0;34m.\u001b[0m\u001b[0m_self_setattr_tracking\u001b[0m \u001b[0;34m=\u001b[0m \u001b[0;32mFalse\u001b[0m  \u001b[0;31m# pylint: disable=protected-access\u001b[0m\u001b[0;34m\u001b[0m\u001b[0;34m\u001b[0m\u001b[0m\n\u001b[1;32m    516\u001b[0m     \u001b[0;32mtry\u001b[0m\u001b[0;34m:\u001b[0m\u001b[0;34m\u001b[0m\u001b[0;34m\u001b[0m\u001b[0m\n\u001b[0;32m--> 517\u001b[0;31m       \u001b[0mresult\u001b[0m \u001b[0;34m=\u001b[0m \u001b[0mmethod\u001b[0m\u001b[0;34m(\u001b[0m\u001b[0mself\u001b[0m\u001b[0;34m,\u001b[0m \u001b[0;34m*\u001b[0m\u001b[0margs\u001b[0m\u001b[0;34m,\u001b[0m \u001b[0;34m**\u001b[0m\u001b[0mkwargs\u001b[0m\u001b[0;34m)\u001b[0m\u001b[0;34m\u001b[0m\u001b[0;34m\u001b[0m\u001b[0m\n\u001b[0m\u001b[1;32m    518\u001b[0m     \u001b[0;32mfinally\u001b[0m\u001b[0;34m:\u001b[0m\u001b[0;34m\u001b[0m\u001b[0;34m\u001b[0m\u001b[0m\n\u001b[1;32m    519\u001b[0m       \u001b[0mself\u001b[0m\u001b[0;34m.\u001b[0m\u001b[0m_self_setattr_tracking\u001b[0m \u001b[0;34m=\u001b[0m \u001b[0mprevious_value\u001b[0m  \u001b[0;31m# pylint: disable=protected-access\u001b[0m\u001b[0;34m\u001b[0m\u001b[0;34m\u001b[0m\u001b[0m\n",
            "\u001b[0;32m/usr/local/lib/python3.7/dist-packages/tensorflow/python/keras/engine/base_layer.py\u001b[0m in \u001b[0;36m__init__\u001b[0;34m(self, trainable, name, dtype, dynamic, **kwargs)\u001b[0m\n\u001b[1;32m    427\u001b[0m         \u001b[0;32melse\u001b[0m\u001b[0;34m:\u001b[0m\u001b[0;34m\u001b[0m\u001b[0;34m\u001b[0m\u001b[0m\n\u001b[1;32m    428\u001b[0m           \u001b[0mbatch_size\u001b[0m \u001b[0;34m=\u001b[0m \u001b[0;32mNone\u001b[0m\u001b[0;34m\u001b[0m\u001b[0;34m\u001b[0m\u001b[0m\n\u001b[0;32m--> 429\u001b[0;31m         \u001b[0mbatch_input_shape\u001b[0m \u001b[0;34m=\u001b[0m \u001b[0;34m(\u001b[0m\u001b[0mbatch_size\u001b[0m\u001b[0;34m,\u001b[0m\u001b[0;34m)\u001b[0m \u001b[0;34m+\u001b[0m \u001b[0mtuple\u001b[0m\u001b[0;34m(\u001b[0m\u001b[0mkwargs\u001b[0m\u001b[0;34m[\u001b[0m\u001b[0;34m'input_shape'\u001b[0m\u001b[0;34m]\u001b[0m\u001b[0;34m)\u001b[0m\u001b[0;34m\u001b[0m\u001b[0;34m\u001b[0m\u001b[0m\n\u001b[0m\u001b[1;32m    430\u001b[0m       \u001b[0mself\u001b[0m\u001b[0;34m.\u001b[0m\u001b[0m_batch_input_shape\u001b[0m \u001b[0;34m=\u001b[0m \u001b[0mbatch_input_shape\u001b[0m\u001b[0;34m\u001b[0m\u001b[0;34m\u001b[0m\u001b[0m\n\u001b[1;32m    431\u001b[0m \u001b[0;34m\u001b[0m\u001b[0m\n",
            "\u001b[0;31mTypeError\u001b[0m: 'int' object is not iterable"
          ]
        }
      ]
    },
    {
      "cell_type": "code",
      "metadata": {
        "id": "ecN2oFiWsAkH"
      },
      "source": [
        ""
      ],
      "execution_count": null,
      "outputs": []
    }
  ]
}