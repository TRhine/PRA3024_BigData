{
  "nbformat": 4,
  "nbformat_minor": 0,
  "metadata": {
    "colab": {
      "name": "GravWaves.ipynb",
      "provenance": [],
      "toc_visible": true,
      "authorship_tag": "ABX9TyOKqmuiEFdndkpKcI7ip0gQ",
      "include_colab_link": true
    },
    "kernelspec": {
      "name": "python3",
      "display_name": "Python 3"
    }
  },
  "cells": [
    {
      "cell_type": "markdown",
      "metadata": {
        "id": "view-in-github",
        "colab_type": "text"
      },
      "source": [
        "<a href=\"https://colab.research.google.com/github/TRhine/PRA3024_BigData/blob/main/GravWaves_Final.ipynb\" target=\"_parent\"><img src=\"https://colab.research.google.com/assets/colab-badge.svg\" alt=\"Open In Colab\"/></a>"
      ]
    },
    {
      "cell_type": "code",
      "metadata": {
        "colab": {
          "base_uri": "https://localhost:8080/"
        },
        "id": "rh5EHJKIZsPk",
        "outputId": "c3782d1f-b9ed-435f-be12-30063745d525"
      },
      "source": [
        "!wget -nc https://dcc.ligo.org/public/0146/P1700349/001/H-H1_LOSC_CLN_4_V1-1187007040-2048.gwf\r\n",
        "!wget -nc https://dcc.ligo.org/public/0146/P1700349/001/L-L1_LOSC_CLN_4_V1-1187007040-2048.gwf\r\n",
        "import sys\r\n",
        "!{sys.executable} -m pip install lalsuite pycbc\r\n",
        "\r\n"
      ],
      "execution_count": 4,
      "outputs": [
        {
          "output_type": "stream",
          "text": [
            "--2021-02-22 17:40:19--  https://dcc.ligo.org/public/0146/P1700349/001/H-H1_LOSC_CLN_4_V1-1187007040-2048.gwf\n",
            "Resolving dcc.ligo.org (dcc.ligo.org)... 131.215.125.144\n",
            "Connecting to dcc.ligo.org (dcc.ligo.org)|131.215.125.144|:443... connected.\n",
            "HTTP request sent, awaiting response... 200 OK\n",
            "Length: 57824232 (55M)\n",
            "Saving to: ‘H-H1_LOSC_CLN_4_V1-1187007040-2048.gwf’\n",
            "\n",
            "H-H1_LOSC_CLN_4_V1- 100%[===================>]  55.14M  33.7MB/s    in 1.6s    \n",
            "\n",
            "2021-02-22 17:40:21 (33.7 MB/s) - ‘H-H1_LOSC_CLN_4_V1-1187007040-2048.gwf’ saved [57824232/57824232]\n",
            "\n",
            "--2021-02-22 17:40:21--  https://dcc.ligo.org/public/0146/P1700349/001/L-L1_LOSC_CLN_4_V1-1187007040-2048.gwf\n",
            "Resolving dcc.ligo.org (dcc.ligo.org)... 131.215.125.144\n",
            "Connecting to dcc.ligo.org (dcc.ligo.org)|131.215.125.144|:443... connected.\n",
            "HTTP request sent, awaiting response... 200 OK\n",
            "Length: 62070438 (59M)\n",
            "Saving to: ‘L-L1_LOSC_CLN_4_V1-1187007040-2048.gwf’\n",
            "\n",
            "L-L1_LOSC_CLN_4_V1- 100%[===================>]  59.19M  34.7MB/s    in 1.7s    \n",
            "\n",
            "2021-02-22 17:40:23 (34.7 MB/s) - ‘L-L1_LOSC_CLN_4_V1-1187007040-2048.gwf’ saved [62070438/62070438]\n",
            "\n",
            "Collecting lalsuite\n",
            "\u001b[?25l  Downloading https://files.pythonhosted.org/packages/93/03/851f652a26776aed9f66558333b9f2653f0ff07e8edb43b8a8a1918665b4/lalsuite-6.82-cp36-cp36m-manylinux2014_x86_64.whl (27.3MB)\n",
            "\u001b[K     |████████████████████████████████| 27.3MB 129kB/s \n",
            "\u001b[?25hCollecting pycbc\n",
            "\u001b[?25l  Downloading https://files.pythonhosted.org/packages/f9/a4/e4a5893c632d895109d1ecfe60b9ba0f65f395418c97eed8f41326a8339c/PyCBC-1.17.0.tar.gz (3.2MB)\n",
            "\u001b[K     |████████████████████████████████| 3.2MB 43.8MB/s \n",
            "\u001b[?25h  Installing build dependencies ... \u001b[?25l\u001b[?25hdone\n",
            "  Getting requirements to build wheel ... \u001b[?25l\u001b[?25hdone\n",
            "    Preparing wheel metadata ... \u001b[?25l\u001b[?25hdone\n",
            "Collecting lscsoft-glue\n",
            "\u001b[?25l  Downloading https://files.pythonhosted.org/packages/3b/65/e93853bc1876516db8d58f4590dba1d6b85eaf9d1bd375926ac7897e525a/lscsoft-glue-2.0.0.tar.gz (1.6MB)\n",
            "\u001b[K     |████████████████████████████████| 1.6MB 42.7MB/s \n",
            "\u001b[?25hRequirement already satisfied: scipy in /usr/local/lib/python3.6/dist-packages (from lalsuite) (1.4.1)\n",
            "Requirement already satisfied: matplotlib in /usr/local/lib/python3.6/dist-packages (from lalsuite) (3.2.2)\n",
            "Collecting ligo-segments\n",
            "\u001b[?25l  Downloading https://files.pythonhosted.org/packages/53/96/0b4ec9e9a73444ddfe259460b6f059e89258d6d2356374d9ec7f52ba965e/ligo-segments-1.3.0.tar.gz (52kB)\n",
            "\u001b[K     |████████████████████████████████| 61kB 5.7MB/s \n",
            "\u001b[?25hRequirement already satisfied: importlib-resources; python_version < \"3.7\" in /usr/local/lib/python3.6/dist-packages (from lalsuite) (5.1.0)\n",
            "Requirement already satisfied: numpy>=1.7 in /usr/local/lib/python3.6/dist-packages (from lalsuite) (1.19.5)\n",
            "Requirement already satisfied: python-dateutil in /usr/local/lib/python3.6/dist-packages (from lalsuite) (2.8.1)\n",
            "Requirement already satisfied: beautifulsoup4>=4.6.0 in /usr/local/lib/python3.6/dist-packages (from pycbc) (4.6.3)\n",
            "Requirement already satisfied: cython>=0.29 in /usr/local/lib/python3.6/dist-packages (from pycbc) (0.29.21)\n",
            "Requirement already satisfied: decorator>=3.4.2 in /usr/local/lib/python3.6/dist-packages (from pycbc) (4.4.2)\n",
            "Requirement already satisfied: h5py>=2.5 in /usr/local/lib/python3.6/dist-packages (from pycbc) (2.10.0)\n",
            "Collecting Mako>=1.0.1\n",
            "\u001b[?25l  Downloading https://files.pythonhosted.org/packages/5c/db/2d2d88b924aa4674a080aae83b59ea19d593250bfe5ed789947c21736785/Mako-1.1.4.tar.gz (479kB)\n",
            "\u001b[K     |████████████████████████████████| 481kB 34.5MB/s \n",
            "\u001b[?25hRequirement already satisfied: jinja2 in /usr/local/lib/python3.6/dist-packages (from pycbc) (2.11.3)\n",
            "Requirement already satisfied: pillow in /usr/local/lib/python3.6/dist-packages (from pycbc) (7.0.0)\n",
            "Collecting mpld3>=0.3\n",
            "\u001b[?25l  Downloading https://files.pythonhosted.org/packages/7d/b4/f380b6d58658106870161d703972b74fc2e66317acf298f873c0816d1fb2/mpld3-0.5.2.tar.gz (888kB)\n",
            "\u001b[K     |████████████████████████████████| 890kB 40.6MB/s \n",
            "\u001b[?25hRequirement already satisfied: six>=1.10.0 in /usr/local/lib/python3.6/dist-packages (from pycbc) (1.15.0)\n",
            "Requirement already satisfied: tqdm in /usr/local/lib/python3.6/dist-packages (from pycbc) (4.41.1)\n",
            "Collecting emcee==2.2.1\n",
            "  Downloading https://files.pythonhosted.org/packages/3f/d3/7635106605dedccd08705beac53be4c43a8da1caad6be667adbf93ed0965/emcee-2.2.1.tar.gz\n",
            "Requirement already satisfied: astropy>=2.0.3; python_version > \"3.0\" in /usr/local/lib/python3.6/dist-packages (from pycbc) (4.1)\n",
            "Collecting gwdatafind\n",
            "  Downloading https://files.pythonhosted.org/packages/d6/9e/616124723b7a8f2a5399f9288b056bb31f37222b0b7cae46f6bafaa42154/gwdatafind-1.0.4-py2.py3-none-any.whl\n",
            "Requirement already satisfied: requests>=1.2.1 in /usr/local/lib/python3.6/dist-packages (from pycbc) (2.23.0)\n",
            "Collecting pyOpenSSL\n",
            "\u001b[?25l  Downloading https://files.pythonhosted.org/packages/b2/5e/06351ede29fd4899782ad335c2e02f1f862a887c20a3541f17c3fa1a3525/pyOpenSSL-20.0.1-py2.py3-none-any.whl (54kB)\n",
            "\u001b[K     |████████████████████████████████| 61kB 6.9MB/s \n",
            "\u001b[?25hRequirement already satisfied: cycler>=0.10 in /usr/local/lib/python3.6/dist-packages (from matplotlib->lalsuite) (0.10.0)\n",
            "Requirement already satisfied: kiwisolver>=1.0.1 in /usr/local/lib/python3.6/dist-packages (from matplotlib->lalsuite) (1.3.1)\n",
            "Requirement already satisfied: pyparsing!=2.0.4,!=2.1.2,!=2.1.6,>=2.0.1 in /usr/local/lib/python3.6/dist-packages (from matplotlib->lalsuite) (2.4.7)\n",
            "Requirement already satisfied: zipp>=0.4; python_version < \"3.8\" in /usr/local/lib/python3.6/dist-packages (from importlib-resources; python_version < \"3.7\"->lalsuite) (3.4.0)\n",
            "Requirement already satisfied: MarkupSafe>=0.9.2 in /usr/local/lib/python3.6/dist-packages (from Mako>=1.0.1->pycbc) (1.1.1)\n",
            "Requirement already satisfied: urllib3!=1.25.0,!=1.25.1,<1.26,>=1.21.1 in /usr/local/lib/python3.6/dist-packages (from requests>=1.2.1->pycbc) (1.24.3)\n",
            "Requirement already satisfied: chardet<4,>=3.0.2 in /usr/local/lib/python3.6/dist-packages (from requests>=1.2.1->pycbc) (3.0.4)\n",
            "Requirement already satisfied: certifi>=2017.4.17 in /usr/local/lib/python3.6/dist-packages (from requests>=1.2.1->pycbc) (2020.12.5)\n",
            "Requirement already satisfied: idna<3,>=2.5 in /usr/local/lib/python3.6/dist-packages (from requests>=1.2.1->pycbc) (2.10)\n",
            "Collecting cryptography>=3.2\n",
            "\u001b[?25l  Downloading https://files.pythonhosted.org/packages/f8/1f/acde6ff69864c5e78b56488e3afd93c1ccc8c2651186e2a5f93d93f64859/cryptography-3.4.6-cp36-abi3-manylinux2014_x86_64.whl (3.2MB)\n",
            "\u001b[K     |████████████████████████████████| 3.2MB 45.3MB/s \n",
            "\u001b[?25hRequirement already satisfied: cffi>=1.12 in /usr/local/lib/python3.6/dist-packages (from cryptography>=3.2->pyOpenSSL->lscsoft-glue->lalsuite) (1.14.4)\n",
            "Requirement already satisfied: pycparser in /usr/local/lib/python3.6/dist-packages (from cffi>=1.12->cryptography>=3.2->pyOpenSSL->lscsoft-glue->lalsuite) (2.20)\n",
            "Building wheels for collected packages: pycbc\n",
            "  Building wheel for pycbc (PEP 517) ... \u001b[?25l\u001b[?25hdone\n",
            "  Created wheel for pycbc: filename=PyCBC-1.17.0-cp36-cp36m-linux_x86_64.whl size=5711452 sha256=c11fd8cd04c719511b46a8ca9e3e106980de0a858a864ab7446d74e65d72a7bd\n",
            "  Stored in directory: /root/.cache/pip/wheels/51/1c/69/7de581c512e9465dad0d6a955c4a947425799fe14f6226d3a8\n",
            "Successfully built pycbc\n",
            "Building wheels for collected packages: lscsoft-glue, ligo-segments, Mako, mpld3, emcee\n",
            "  Building wheel for lscsoft-glue (setup.py) ... \u001b[?25l\u001b[?25hdone\n",
            "  Created wheel for lscsoft-glue: filename=lscsoft_glue-2.0.0-cp36-cp36m-linux_x86_64.whl size=414156 sha256=6a3ebccc480b94ede50f901a5b7ef8e194cf9690a5c2db43cd0b0c50c53958cb\n",
            "  Stored in directory: /root/.cache/pip/wheels/aa/fa/38/d61b002c627ca54f03755b9a288f4b1fa83291608a4bc47b7b\n",
            "  Building wheel for ligo-segments (setup.py) ... \u001b[?25l\u001b[?25hdone\n",
            "  Created wheel for ligo-segments: filename=ligo_segments-1.3.0-cp36-cp36m-linux_x86_64.whl size=84678 sha256=b1f8fe79ad0d99390a6f932ba375f0572f6d0651d2c058d7a2a9f5c0cff1f29e\n",
            "  Stored in directory: /root/.cache/pip/wheels/21/e8/4d/bfb61e2ececd2ba80c3b5c6691a8434358a655d6c2e7730ca9\n",
            "  Building wheel for Mako (setup.py) ... \u001b[?25l\u001b[?25hdone\n",
            "  Created wheel for Mako: filename=Mako-1.1.4-py2.py3-none-any.whl size=75675 sha256=fc71aaa0bfc5230babb690e112b0f9d29e107aacf58281328e1d38451ea638b4\n",
            "  Stored in directory: /root/.cache/pip/wheels/ad/10/d3/aeb26e20d19045e2a68e5d3cbb57432e11b5d9c92c99f98d47\n",
            "  Building wheel for mpld3 (setup.py) ... \u001b[?25l\u001b[?25hdone\n",
            "  Created wheel for mpld3: filename=mpld3-0.5.2-cp36-none-any.whl size=200618 sha256=c1a801057af42ce0262b576057ae007768259e65117dc83f7c1d84398520e061\n",
            "  Stored in directory: /root/.cache/pip/wheels/21/73/06/ea4b85609301850b1289a282852d92e22fcbf7a250ed5f547f\n",
            "  Building wheel for emcee (setup.py) ... \u001b[?25l\u001b[?25hdone\n",
            "  Created wheel for emcee: filename=emcee-2.2.1-cp36-none-any.whl size=29596 sha256=339f048324dc8796c551ea47b0b6ccdac4a2944ca6ef4240489b9a716ca2c212\n",
            "  Stored in directory: /root/.cache/pip/wheels/2f/5d/a5/78f84e23329ad7d9b1787c9d24371100cae74cdefe25eba50d\n",
            "Successfully built lscsoft-glue ligo-segments Mako mpld3 emcee\n",
            "Installing collected packages: cryptography, pyOpenSSL, ligo-segments, lscsoft-glue, lalsuite, Mako, mpld3, emcee, gwdatafind, pycbc\n",
            "Successfully installed Mako-1.1.4 cryptography-3.4.6 emcee-2.2.1 gwdatafind-1.0.4 lalsuite-6.82 ligo-segments-1.3.0 lscsoft-glue-2.0.0 mpld3-0.5.2 pyOpenSSL-20.0.1 pycbc-1.17.0\n"
          ],
          "name": "stdout"
        }
      ]
    },
    {
      "cell_type": "markdown",
      "metadata": {
        "id": "K-_ZoW0_UfLH"
      },
      "source": [
        "# **ASSIGNMENT 1**"
      ]
    },
    {
      "cell_type": "code",
      "metadata": {
        "colab": {
          "base_uri": "https://localhost:8080/",
          "height": 290
        },
        "id": "lorn-PC_idmf",
        "outputId": "fc89bbc3-2ed0-488a-dd80-0508d7222b07"
      },
      "source": [
        "#EXERCISE 1: MATCHED FILTERING\r\n",
        "%matplotlib inline \r\n",
        "import pylab \r\n",
        "from pycbc.filter import highpass \r\n",
        "from pycbc.catalog import Merger \r\n",
        "from pycbc.frame import read_frame \r\n",
        " \r\n",
        "merger = Merger(\"GW170817\") \r\n",
        "strain, stilde = {}, {} \r\n",
        "for ifo in ['H1', 'L1']: \r\n",
        "   # We'll download the data and select 256 seconds that includes the event time \r\n",
        "   ts = read_frame(\"{}-{}_LOSC_CLN_4_V1-1187007040-2048.gwf\".format(ifo[0], ifo), \r\n",
        "                   '{}:LOSC-STRAIN'.format(ifo), \r\n",
        "                  start_time=merger.time - 224, \r\n",
        "                  end_time=merger.time + 32, \r\n",
        "                  check_integrity=False) \r\n",
        "   \r\n",
        "   # Read the detector data and remove low frequency content \r\n",
        "   strain[ifo] = highpass(ts, 15) \r\n",
        " \r\n",
        "   # Remove time corrupted by the high pass filter \r\n",
        "   strain[ifo] = strain[ifo].crop(4, 4) \r\n",
        "   \r\n",
        "   # Also create a frequency domain version of the data    \r\n",
        "   stilde[ifo] = strain[ifo].to_frequencyseries() \r\n",
        " \r\n",
        " \r\n",
        "#print (strain.delta_t) \r\n",
        "pylab.plot(strain['H1'].sample_times, strain['H1']) \r\n",
        "pylab.xlabel('Time (s)') \r\n",
        "pylab.show() "
      ],
      "execution_count": 5,
      "outputs": [
        {
          "output_type": "display_data",
          "data": {
            "image/png": "[encoded data removed]",
            "text/plain": [
              "<Figure size 432x288 with 1 Axes>"
            ]
          },
          "metadata": {
            "tags": [],
            "needs_background": "light"
          }
        }
      ]
    },
    {
      "cell_type": "code",
      "metadata": {
        "id": "A9rQ-dnm0ocn"
      },
      "source": [
        "#Eliminating PSD from DATA\r\n",
        "from pycbc.psd import interpolate, inverse_spectrum_truncation\r\n",
        "psds = {}\r\n",
        "for ifo in ['L1', 'H1']:\r\n",
        "\r\n",
        "# Calculate a psd from the data. We'll use 2s segments in a median -welch style estimate\r\n",
        "# We then interpolate the PSD to the desired frequency step.\r\n",
        " psds[ifo] = interpolate(strain[ifo].psd(2), stilde[ifo].delta_f)\r\n",
        "\r\n",
        "# We explicitly control how much data will be corrupted by overwhitening the data later on\r\n",
        "# In this case we choose 2 seconds.\r\n",
        "psds[ifo] = inverse_spectrum_truncation(psds[ifo], int(2 *\r\n",
        "                                                        strain[ifo].sample_rate),\r\n",
        "                                         low_frequency_cutoff=15.0,\r\n",
        "                                         trunc_method='hann')\r\n",
        "\r\n",
        "pylab.loglog(psds[ifo].sample_frequencies, psds[ifo], label=ifo)\r\n",
        "pylab.xlim(20, 1024)\r\n",
        "pylab.ylim(1e-47, 1e-42)\r\n",
        "pylab.legend()"
      ],
      "execution_count": null,
      "outputs": []
    },
    {
      "cell_type": "code",
      "metadata": {
        "colab": {
          "base_uri": "https://localhost:8080/"
        },
        "id": "_ylkwPvn1FUf",
        "outputId": "bd0a4bdf-f4b8-4892-deca-e7be44383f11"
      },
      "source": [
        "#Matched Filtering\r\n",
        "from pycbc.waveform import get_fd_waveform\r\n",
        "from pycbc.filter import matched_filter\r\n",
        "from pycbc.conversions import mass1_from_mchirp_q\r\n",
        "import numpy\r\n",
        "# We will try different component masses and see which gives us the largest\r\n",
        "masses = numpy.arange(1.3, 1.5, .01)\r\n",
        "\r\n",
        "# Variables to store when we've found the max\r\n",
        "hmax, smax, tmax, mmax, nsnr = None, {}, {}, 0, 0\r\n",
        "snrs = []\r\n",
        "\r\n",
        "for m in masses:  #Generate a waveform with a given component mass; assumed equal mass, nonspinning\r\n",
        "  hp, hc = get_fd_waveform(approximant=\"TaylorF2\",\r\n",
        "                           mass1=m, mass2=m,\r\n",
        "                           f_lower=20, delta_f=stilde[ifo].delta_f)\r\n",
        "  hp.resize(len(stilde[ifo]))\r\n",
        "\r\n",
        "# Matched filter the data and find the peak\r\n",
        "max_snr, max_time = {}, {}\r\n",
        "for ifo in ['L1', 'H1']:\r\n",
        "  snr = matched_filter(hp, stilde[ifo], psd=psds[ifo],\r\n",
        "                       low_frequency_cutoff=20.0)\r\n",
        "\r\n",
        "# The complex SNR at the peak\r\n",
        "snr = snr.time_slice(merger.time - 1, merger.time + 1)\r\n",
        "_, idx = snr.abs_max_loc()\r\n",
        "max_snr[ifo] = snr[idx]\r\n",
        "\r\n",
        "# The time of the peak\r\n",
        "max_time[ifo] = float(idx) / snr.sample_rate + snr.start_time\r\n",
        "\r\n",
        "network_snr = (abs(numpy.array(list(max_snr.values()))) ** 2.0).sum()** 0.5\r\n",
        "snrs.append(max_snr)\r\n",
        "\r\n",
        "# Keep track of only the loudest peak\r\n",
        "if network_snr > nsnr: \r\n",
        "  tmax, hmax, mmax, smax = max_time, hp, m, max_snr\r\n",
        "  nsnr = network_snr\r\n",
        "\r\n",
        "#print(\"We found the best Mass1=Mass2 was %2.2f solar masses (detector frame)\" % mmax)\r\n",
        "#Not sure what we're actually supposed to print here"
      ],
      "execution_count": 7,
      "outputs": [
        {
          "output_type": "stream",
          "text": [
            "We found the best Mass1=Mass2 was 1.49 solar masses (detector frame)\n"
          ],
          "name": "stdout"
        }
      ]
    },
    {
      "cell_type": "markdown",
      "metadata": {
        "id": "9K6YhDLqT4cf"
      },
      "source": [
        "# **ASSIGNMENT 2**"
      ]
    },
    {
      "cell_type": "markdown",
      "metadata": {
        "id": "hc7LvYikTuLo"
      },
      "source": [
        "**PART 1**"
      ]
    },
    {
      "cell_type": "code",
      "metadata": {
        "colab": {
          "base_uri": "https://localhost:8080/",
          "height": 301
        },
        "id": "s5_Y3MKJBbcn",
        "outputId": "8c9aea39-0bac-47d7-8448-2dc7b4e90287"
      },
      "source": [
        "#PART 1\r\n",
        "from pycbc.psd import welch, interpolate\r\n",
        "import pycbc.types \r\n",
        "d = numpy.load('/content/noise_ts_4096Hz.npy')\r\n",
        "import pycbc.types \r\n",
        "dt = d[:, 0]\r\n",
        "d = pycbc.types.TimeSeries(d[:, 1], delta_t = dt[1]- dt[0])\r\n",
        "Data = d\r\n",
        "\r\n",
        "#Estimating PSD\r\n",
        "delta_t = 1.0 / 4096\r\n",
        "tsamples = int(128 / delta_t)\r\n",
        "\r\n",
        "# Estimate the PSD\r\n",
        "## We'll choose 4 seconds PSD samples that are overlapped 50 %\r\n",
        "seg_len = int(4 / delta_t)\r\n",
        "seg_stride = int(seg_len / 2)\r\n",
        "psds = pycbc.psd.welch(Data,\r\n",
        "                      seg_len=seg_len,\r\n",
        "                      seg_stride=seg_stride)\r\n",
        "\r\n",
        "pylab.loglog(psds.sample_frequencies, psds)\r\n",
        "pylab.xlim(xmin=30, xmax = 1000)\r\n",
        "pylab.xlabel('Hz')\r\n",
        "pylab.show"
      ],
      "execution_count": 11,
      "outputs": [
        {
          "output_type": "execute_result",
          "data": {
            "text/plain": [
              "<function matplotlib.pyplot.show>"
            ]
          },
          "metadata": {
            "tags": []
          },
          "execution_count": 11
        },
        {
          "output_type": "display_data",
          "data": {
            "image/png": "[encoded data removed]",
            "text/plain": [
              "<Figure size 432x288 with 1 Axes>"
            ]
          },
          "metadata": {
            "tags": [],
            "needs_background": "light"
          }
        }
      ]
    },
    {
      "cell_type": "code",
      "metadata": {
        "colab": {
          "base_uri": "https://localhost:8080/",
          "height": 297
        },
        "id": "OSEbaCnnGcUU",
        "outputId": "3bcb8035-66f2-4584-8bbd-9acf894a1812"
      },
      "source": [
        "#PART 1 - Matched Filtering\r\n",
        "from pycbc.psd import welch, interpolate\r\n",
        "psds = interpolate(welch(d), 1.0 / d.duration)\r\n",
        "\r\n",
        "import pycbc.noise\r\n",
        "import pycbc.psd\r\n",
        "import pycbc.filter\r\n",
        "import pycbc.waveform\r\n",
        "import pylab\r\n",
        "flow = 30 #Hz\r\n",
        "stilde = Data.to_frequencyseries()\r\n",
        "\r\n",
        "\r\n",
        "hp, hc = pycbc.waveform.get_fd_waveform(approximant=\"TaylorF2\",\r\n",
        "                             mass1=10, mass2=10,\r\n",
        "                             f_lower=flow, delta_f=stilde.delta_f)\r\n",
        "\r\n",
        "hp.resize(len(stilde))  \r\n",
        "snr = pycbc.filter.matched_filter(hp, stilde, psd=psds,\r\n",
        "                                      low_frequency_cutoff=flow)\r\n",
        "\r\n",
        "\r\n",
        "# Remove regions corrupted by filter wraparound\r\n",
        "snr = snr[len(snr) // 4: len(snr) * 3 // 4]\r\n",
        "\r\n",
        "pylab.plot(snr.sample_times, abs(snr))\r\n",
        "pylab.ylabel('signal-to-noise ratio')\r\n",
        "pylab.xlabel('time (s)')\r\n",
        "pylab.show()\r\n",
        "print ( 'Maximum SNR', max(abs(snr)) )\r\n"
      ],
      "execution_count": 13,
      "outputs": [
        {
          "output_type": "display_data",
          "data": {
            "image/png": "[encoded data removed]",
            "text/plain": [
              "<Figure size 432x288 with 1 Axes>"
            ]
          },
          "metadata": {
            "tags": [],
            "needs_background": "light"
          }
        },
        {
          "output_type": "stream",
          "text": [
            "Maximum SNR 5.14255771068566\n"
          ],
          "name": "stdout"
        }
      ]
    },
    {
      "cell_type": "markdown",
      "metadata": {
        "id": "YCwm0tRETpOQ"
      },
      "source": [
        "**ASSIGNMENT 2 - PART 2**"
      ]
    },
    {
      "cell_type": "code",
      "metadata": {
        "colab": {
          "base_uri": "https://localhost:8080/",
          "height": 299
        },
        "id": "IgGoy7uGztqa",
        "outputId": "10098e5b-4ef2-4849-ab26-36f14730ffd0"
      },
      "source": [
        "#PART 2 - Histogram Formation\r\n",
        " \r\n",
        "white_data = (Data.to_frequencyseries() / psds**0.5).to_timeseries() \r\n",
        "\r\n",
        "import matplotlib.pyplot as plt\r\n",
        "import seaborn as sns \r\n",
        "\r\n",
        "x = range(-200, 200, 5)\r\n",
        "plt.title (\"Histogram\")\r\n",
        "plt.hist(white_data, x)\r\n",
        "plt.show\r\n",
        "##Data reveals the expected gaussian distribution with zero mean#"
      ],
      "execution_count": 20,
      "outputs": [
        {
          "output_type": "execute_result",
          "data": {
            "text/plain": [
              "<function matplotlib.pyplot.show>"
            ]
          },
          "metadata": {
            "tags": []
          },
          "execution_count": 20
        },
        {
          "output_type": "display_data",
          "data": {
            "image/png": "[encoded data removed]",
            "text/plain": [
              "<Figure size 432x288 with 1 Axes>"
            ]
          },
          "metadata": {
            "tags": [],
            "needs_background": "light"
          }
        }
      ]
    },
    {
      "cell_type": "markdown",
      "metadata": {
        "id": "_8VkKGmaTbWI"
      },
      "source": [
        "**ASSIGNMENT 2 - PART 3**"
      ]
    },
    {
      "cell_type": "code",
      "metadata": {
        "id": "WJ0os4eBL0BM"
      },
      "source": [
        "#PART 3 - Sationary Assumption\r\n",
        "\r\n",
        "from pycbc.filter import sigmasq\r\n",
        "SNR = (numpy.sum((4*hp*numpy.conj(hp)*hp.delta_f/psds).data).real)**0.5 \r\n",
        "\r\n",
        "from pycbc.waveform import get_fd_waveform \r\n",
        "hp, hc = get_fd_waveform(approximant=\"TaylorF2\", \r\n",
        "                         mass1=3, \r\n",
        "                         mass2=3, \r\n",
        "                         delta_f=1.0/(200.0) , \r\n",
        "                         distance = 500,  \r\n",
        "                         f_lower=20.0, f_final = 2048.0)    #Luminosity distance = 500 Mpc \r\n",
        "\r\n",
        "max = 1000\r\n",
        "\r\n",
        "Dataslice = len(Data)/max\r\n",
        "Dataslice = int(Dataslice)\r\n",
        "print(Dataslice)\r\n",
        "\r\n",
        "SNR_all = []\r\n",
        "\r\n",
        "for i in range(max):\r\n",
        "  data_piece = Data[i*Dataslice : Dataslice*(i+1)]\r\n",
        "  psds = pycbc.psd.interpolate(pycbc.psd.welch(data_piece), hp.delta_f)\r\n",
        "  SNR = (pycbc.filter.sigmasq(hp,psds))**0.5\r\n",
        "  #SNR calculation as seen previously\r\n",
        "  SNR_all.append(SNR)\r\n",
        "\r\n",
        "  print(SNR)\r\n",
        "  #print(SNR_all)"
      ],
      "execution_count": null,
      "outputs": []
    },
    {
      "cell_type": "code",
      "metadata": {
        "colab": {
          "base_uri": "https://localhost:8080/",
          "height": 313
        },
        "id": "Lu0iE5C4SmJK",
        "outputId": "d2de8128-341e-4769-bc64-b8b6d8bbd1ab"
      },
      "source": [
        "#Plot the histogram...\r\n",
        "plt.hist(SNR_all, 100, density=True)\r\n",
        "plt.title(\"Histogram of SNR's\")\r\n",
        "plt.xlabel(\"SNR\")\r\n",
        "plt.ylabel(\"Probability\")\r\n",
        "\r\n",
        "plt.show"
      ],
      "execution_count": 32,
      "outputs": [
        {
          "output_type": "execute_result",
          "data": {
            "text/plain": [
              "<function matplotlib.pyplot.show>"
            ]
          },
          "metadata": {
            "tags": []
          },
          "execution_count": 32
        },
        {
          "output_type": "display_data",
          "data": {
            "image/png": "[encoded data removed]",
            "text/plain": [
              "<Figure size 432x288 with 1 Axes>"
            ]
          },
          "metadata": {
            "tags": [],
            "needs_background": "light"
          }
        }
      ]
    },
    {
      "cell_type": "markdown",
      "metadata": {
        "id": "7wPOY3ILWkn3"
      },
      "source": [
        "# **ASSIGNMENT 3**"
      ]
    },
    {
      "cell_type": "markdown",
      "metadata": {
        "id": "WR1_zYI7YbLJ"
      },
      "source": [
        "**PART 1 - LIGO**"
      ]
    },
    {
      "cell_type": "code",
      "metadata": {
        "colab": {
          "base_uri": "https://localhost:8080/",
          "height": 275
        },
        "id": "rctw3pE2WoIo",
        "outputId": "d98eda0b-24a8-4bdd-8f50-0be9cb1763ec"
      },
      "source": [
        "import pycbc.psd \r\n",
        "import numpy as np \r\n",
        "flow = 4.0   # set up the lower cut off frequency \r\n",
        "delta_f = 1.0 / 16 \r\n",
        "flen = int(2048.0/ (delta_f)) + 1 \r\n",
        "psd = pycbc.psd.aLIGOZeroDetHighPower(flen, delta_f, flow) \r\n",
        " \r\n",
        "psd.data[:int(flow/delta_f)] = np.inf  #set the value outside the frequency range to infinity \r\n",
        "psd.data[-1] = np.inf \r\n",
        "\r\n",
        "pylab.loglog(psd.sample_frequencies, psd)\r\n",
        "pylab.xlim(10,4096)\r\n",
        "pylab.ylim(1e-51,1e-39)\r\n",
        "pylab.show()"
      ],
      "execution_count": 39,
      "outputs": [
        {
          "output_type": "display_data",
          "data": {
            "image/png": "[encoded data removed]",
            "text/plain": [
              "<Figure size 432x288 with 1 Axes>"
            ]
          },
          "metadata": {
            "tags": [],
            "needs_background": "light"
          }
        }
      ]
    },
    {
      "cell_type": "markdown",
      "metadata": {
        "id": "GGoCVg58YeeX"
      },
      "source": [
        "**PART 2 - NO CLUE**"
      ]
    },
    {
      "cell_type": "markdown",
      "metadata": {
        "id": "iR-4d2wkYkPn"
      },
      "source": [
        "**PART 3 - EINSTEIN**"
      ]
    },
    {
      "cell_type": "code",
      "metadata": {
        "colab": {
          "base_uri": "https://localhost:8080/",
          "height": 275
        },
        "id": "FG9DLybWYqrf",
        "outputId": "06ed622d-c6bd-4e59-c633-f6abc8848c1c"
      },
      "source": [
        "import pycbc.psd \r\n",
        "import numpy as np \r\n",
        "flow = 4.0   # set up the lower cut off frequency \r\n",
        "delta_f = 1.0 / 16 \r\n",
        "flen = int(2048.0/ (delta_f)) + 1 \r\n",
        "psd = pycbc.psd.EinsteinTelescopeP1600143(flen, delta_f, flow) \r\n",
        " \r\n",
        "psd.data[:int(flow/delta_f)] = np.inf  #set the value outside the frequency range to infinity \r\n",
        "psd.data[-1] = np.inf \r\n",
        "\r\n",
        "pylab.loglog(psd.sample_frequencies, psd)\r\n",
        "pylab.xlim(10,2048)\r\n",
        "pylab.ylim(1e-49,1e-46)\r\n",
        "pylab.show()"
      ],
      "execution_count": 48,
      "outputs": [
        {
          "output_type": "display_data",
          "data": {
            "image/png": "[encoded data removed]",
            "text/plain": [
              "<Figure size 432x288 with 1 Axes>"
            ]
          },
          "metadata": {
            "tags": [],
            "needs_background": "light"
          }
        }
      ]
    }
  ]
}